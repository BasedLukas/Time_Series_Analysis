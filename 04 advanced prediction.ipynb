{
 "cells": [
  {
   "cell_type": "markdown",
   "id": "8ad64476",
   "metadata": {},
   "source": [
    "In the previous module we looked at a basic prdiction using only one data source and making a prdiction only a few days ahead. now we will combine more data and try to make long term predictions"
   ]
  },
  {
   "cell_type": "code",
   "execution_count": 116,
   "id": "97261983",
   "metadata": {},
   "outputs": [],
   "source": [
    "import xgboost as xgb\n",
    "import pandas as pd\n",
    "from sklearn.model_selection import train_test_split\n",
    "from sklearn.metrics import mean_absolute_error as mae\n",
    "from sklearn.preprocessing import MinMaxScaler\n",
    "from sklearn.preprocessing import StandardScaler\n",
    "import seaborn as sns"
   ]
  },
  {
   "cell_type": "code",
   "execution_count": 117,
   "id": "7e9eef2a",
   "metadata": {
    "scrolled": true
   },
   "outputs": [
    {
     "data": {
      "text/plain": [
       "date\n",
       "1951-01-01   -7.01\n",
       "1951-01-02   -6.75\n",
       "1951-01-03   -1.29\n",
       "1951-01-04    4.18\n",
       "1951-01-05   -0.57\n",
       "              ... \n",
       "2021-12-27   -2.83\n",
       "2021-12-28   -3.98\n",
       "2021-12-29   -1.90\n",
       "2021-12-30   -1.52\n",
       "2021-12-31    0.49\n",
       "Name: measurement, Length: 25933, dtype: float64"
      ]
     },
     "execution_count": 117,
     "metadata": {},
     "output_type": "execute_result"
    }
   ],
   "source": [
    "tavg = pd.read_csv(\"new_england_tavg.csv\", index_col=0, parse_dates=True).squeeze(\"columns\")\n",
    "tmax = pd.read_csv(\"new_england_tmax.csv\", index_col=0, parse_dates=True).squeeze(\"columns\")\n",
    "tmin = pd.read_csv(\"new_england_tmin.csv\", index_col=0, parse_dates=True).squeeze(\"columns\")\n",
    "season = pd.read_csv(\"tavg_season_new_england.csv\", index_col=0, parse_dates=True).squeeze(\"columns\")\n",
    "trend = pd.read_csv(\"tavg_trend_new_england.csv\", index_col=0, parse_dates=True).squeeze(\"columns\")\n",
    "resid = pd.read_csv(\"tavg_resid_new_england.csv\", index_col=0, parse_dates=True).squeeze(\"columns\")\n",
    "prcp = pd.read_csv(\"new_england_prcp.csv\", index_col=1, parse_dates=True)\n",
    "prcp = prcp[\"measurement\"].squeeze()\n",
    "tavg"
   ]
  },
  {
   "cell_type": "code",
   "execution_count": 120,
   "id": "414ae58b",
   "metadata": {},
   "outputs": [
    {
     "data": {
      "text/plain": [
       "0       -4.30\n",
       "1       -1.46\n",
       "2       -6.30\n",
       "3       -3.87\n",
       "4       -1.29\n",
       "         ... \n",
       "25914   -2.83\n",
       "25915   -3.98\n",
       "25916   -1.90\n",
       "25917   -1.52\n",
       "25918    0.49\n",
       "Name: measurement, Length: 25919, dtype: float64"
      ]
     },
     "execution_count": 120,
     "metadata": {},
     "output_type": "execute_result"
    }
   ],
   "source": [
    "target = tavg.loc[\"1951-01-15\":].reset_index(drop=True)\n",
    "target"
   ]
  },
  {
   "cell_type": "code",
   "execution_count": 121,
   "id": "64569208",
   "metadata": {},
   "outputs": [
    {
     "data": {
      "text/html": [
       "<div>\n",
       "<style scoped>\n",
       "    .dataframe tbody tr th:only-of-type {\n",
       "        vertical-align: middle;\n",
       "    }\n",
       "\n",
       "    .dataframe tbody tr th {\n",
       "        vertical-align: top;\n",
       "    }\n",
       "\n",
       "    .dataframe thead th {\n",
       "        text-align: right;\n",
       "    }\n",
       "</style>\n",
       "<table border=\"1\" class=\"dataframe\">\n",
       "  <thead>\n",
       "    <tr style=\"text-align: right;\">\n",
       "      <th></th>\n",
       "      <th>tavg</th>\n",
       "      <th>tmax</th>\n",
       "      <th>tmin</th>\n",
       "      <th>season</th>\n",
       "      <th>trend</th>\n",
       "      <th>resid</th>\n",
       "      <th>prcp</th>\n",
       "    </tr>\n",
       "    <tr>\n",
       "      <th>date</th>\n",
       "      <th></th>\n",
       "      <th></th>\n",
       "      <th></th>\n",
       "      <th></th>\n",
       "      <th></th>\n",
       "      <th></th>\n",
       "      <th></th>\n",
       "    </tr>\n",
       "  </thead>\n",
       "  <tbody>\n",
       "    <tr>\n",
       "      <th>1951-01-01</th>\n",
       "      <td>-7.01</td>\n",
       "      <td>-1.70</td>\n",
       "      <td>-12.32</td>\n",
       "      <td>-11.704722</td>\n",
       "      <td>NaN</td>\n",
       "      <td>NaN</td>\n",
       "      <td>0.33</td>\n",
       "    </tr>\n",
       "    <tr>\n",
       "      <th>1951-01-02</th>\n",
       "      <td>-6.75</td>\n",
       "      <td>-0.66</td>\n",
       "      <td>-12.84</td>\n",
       "      <td>-12.184425</td>\n",
       "      <td>NaN</td>\n",
       "      <td>NaN</td>\n",
       "      <td>0.00</td>\n",
       "    </tr>\n",
       "    <tr>\n",
       "      <th>1951-01-03</th>\n",
       "      <td>-1.29</td>\n",
       "      <td>3.95</td>\n",
       "      <td>-6.53</td>\n",
       "      <td>-12.572555</td>\n",
       "      <td>NaN</td>\n",
       "      <td>NaN</td>\n",
       "      <td>0.22</td>\n",
       "    </tr>\n",
       "    <tr>\n",
       "      <th>1951-01-04</th>\n",
       "      <td>4.18</td>\n",
       "      <td>7.64</td>\n",
       "      <td>0.72</td>\n",
       "      <td>-13.119966</td>\n",
       "      <td>NaN</td>\n",
       "      <td>NaN</td>\n",
       "      <td>2.43</td>\n",
       "    </tr>\n",
       "    <tr>\n",
       "      <th>1951-01-05</th>\n",
       "      <td>-0.57</td>\n",
       "      <td>6.57</td>\n",
       "      <td>-7.71</td>\n",
       "      <td>-13.291347</td>\n",
       "      <td>NaN</td>\n",
       "      <td>NaN</td>\n",
       "      <td>1.05</td>\n",
       "    </tr>\n",
       "    <tr>\n",
       "      <th>...</th>\n",
       "      <td>...</td>\n",
       "      <td>...</td>\n",
       "      <td>...</td>\n",
       "      <td>...</td>\n",
       "      <td>...</td>\n",
       "      <td>...</td>\n",
       "      <td>...</td>\n",
       "    </tr>\n",
       "    <tr>\n",
       "      <th>2021-12-27</th>\n",
       "      <td>-2.83</td>\n",
       "      <td>0.59</td>\n",
       "      <td>-6.25</td>\n",
       "      <td>-14.013590</td>\n",
       "      <td>NaN</td>\n",
       "      <td>NaN</td>\n",
       "      <td>0.08</td>\n",
       "    </tr>\n",
       "    <tr>\n",
       "      <th>2021-12-28</th>\n",
       "      <td>-3.98</td>\n",
       "      <td>0.08</td>\n",
       "      <td>-8.05</td>\n",
       "      <td>-13.877024</td>\n",
       "      <td>NaN</td>\n",
       "      <td>NaN</td>\n",
       "      <td>0.80</td>\n",
       "    </tr>\n",
       "    <tr>\n",
       "      <th>2021-12-29</th>\n",
       "      <td>-1.90</td>\n",
       "      <td>1.21</td>\n",
       "      <td>-5.02</td>\n",
       "      <td>-13.535091</td>\n",
       "      <td>NaN</td>\n",
       "      <td>NaN</td>\n",
       "      <td>1.97</td>\n",
       "    </tr>\n",
       "    <tr>\n",
       "      <th>2021-12-30</th>\n",
       "      <td>-1.52</td>\n",
       "      <td>0.84</td>\n",
       "      <td>-3.88</td>\n",
       "      <td>-14.154164</td>\n",
       "      <td>NaN</td>\n",
       "      <td>NaN</td>\n",
       "      <td>0.49</td>\n",
       "    </tr>\n",
       "    <tr>\n",
       "      <th>2021-12-31</th>\n",
       "      <td>0.49</td>\n",
       "      <td>2.22</td>\n",
       "      <td>-1.24</td>\n",
       "      <td>-14.413277</td>\n",
       "      <td>NaN</td>\n",
       "      <td>NaN</td>\n",
       "      <td>0.59</td>\n",
       "    </tr>\n",
       "  </tbody>\n",
       "</table>\n",
       "<p>25933 rows × 7 columns</p>\n",
       "</div>"
      ],
      "text/plain": [
       "            tavg  tmax   tmin     season  trend  resid  prcp\n",
       "date                                                        \n",
       "1951-01-01 -7.01 -1.70 -12.32 -11.704722    NaN    NaN  0.33\n",
       "1951-01-02 -6.75 -0.66 -12.84 -12.184425    NaN    NaN  0.00\n",
       "1951-01-03 -1.29  3.95  -6.53 -12.572555    NaN    NaN  0.22\n",
       "1951-01-04  4.18  7.64   0.72 -13.119966    NaN    NaN  2.43\n",
       "1951-01-05 -0.57  6.57  -7.71 -13.291347    NaN    NaN  1.05\n",
       "...          ...   ...    ...        ...    ...    ...   ...\n",
       "2021-12-27 -2.83  0.59  -6.25 -14.013590    NaN    NaN  0.08\n",
       "2021-12-28 -3.98  0.08  -8.05 -13.877024    NaN    NaN  0.80\n",
       "2021-12-29 -1.90  1.21  -5.02 -13.535091    NaN    NaN  1.97\n",
       "2021-12-30 -1.52  0.84  -3.88 -14.154164    NaN    NaN  0.49\n",
       "2021-12-31  0.49  2.22  -1.24 -14.413277    NaN    NaN  0.59\n",
       "\n",
       "[25933 rows x 7 columns]"
      ]
     },
     "execution_count": 121,
     "metadata": {},
     "output_type": "execute_result"
    }
   ],
   "source": [
    "features = [tavg, tmax, tmin, season, trend, resid, prcp]\n",
    "features = pd.concat(features, axis=\"columns\")\n",
    "features.columns = [\"tavg\", \"tmax\", \"tmin\", \"season\", \"trend\", \"resid\", \"prcp\"]\n",
    "features"
   ]
  },
  {
   "cell_type": "code",
   "execution_count": 122,
   "id": "2cdfe7d7",
   "metadata": {},
   "outputs": [],
   "source": [
    "features['year'] = pd.DatetimeIndex(features.index).year\n",
    "features['month'] = pd.DatetimeIndex(features.index).month\n",
    "features['day'] = pd.DatetimeIndex(features.index).day"
   ]
  },
  {
   "cell_type": "code",
   "execution_count": 124,
   "id": "bde00994",
   "metadata": {},
   "outputs": [
    {
     "data": {
      "text/html": [
       "<div>\n",
       "<style scoped>\n",
       "    .dataframe tbody tr th:only-of-type {\n",
       "        vertical-align: middle;\n",
       "    }\n",
       "\n",
       "    .dataframe tbody tr th {\n",
       "        vertical-align: top;\n",
       "    }\n",
       "\n",
       "    .dataframe thead th {\n",
       "        text-align: right;\n",
       "    }\n",
       "</style>\n",
       "<table border=\"1\" class=\"dataframe\">\n",
       "  <thead>\n",
       "    <tr style=\"text-align: right;\">\n",
       "      <th></th>\n",
       "      <th>tavg</th>\n",
       "      <th>tmax</th>\n",
       "      <th>tmin</th>\n",
       "      <th>season</th>\n",
       "      <th>trend</th>\n",
       "      <th>resid</th>\n",
       "      <th>prcp</th>\n",
       "      <th>year</th>\n",
       "      <th>month</th>\n",
       "      <th>day</th>\n",
       "    </tr>\n",
       "    <tr>\n",
       "      <th>date</th>\n",
       "      <th></th>\n",
       "      <th></th>\n",
       "      <th></th>\n",
       "      <th></th>\n",
       "      <th></th>\n",
       "      <th></th>\n",
       "      <th></th>\n",
       "      <th></th>\n",
       "      <th></th>\n",
       "      <th></th>\n",
       "    </tr>\n",
       "  </thead>\n",
       "  <tbody>\n",
       "    <tr>\n",
       "      <th>1951-01-01</th>\n",
       "      <td>-7.01</td>\n",
       "      <td>-1.70</td>\n",
       "      <td>-12.32</td>\n",
       "      <td>-11.704722</td>\n",
       "      <td>NaN</td>\n",
       "      <td>NaN</td>\n",
       "      <td>0.33</td>\n",
       "      <td>1951</td>\n",
       "      <td>1</td>\n",
       "      <td>1</td>\n",
       "    </tr>\n",
       "    <tr>\n",
       "      <th>1951-01-02</th>\n",
       "      <td>-6.75</td>\n",
       "      <td>-0.66</td>\n",
       "      <td>-12.84</td>\n",
       "      <td>-12.184425</td>\n",
       "      <td>NaN</td>\n",
       "      <td>NaN</td>\n",
       "      <td>0.00</td>\n",
       "      <td>1951</td>\n",
       "      <td>1</td>\n",
       "      <td>2</td>\n",
       "    </tr>\n",
       "    <tr>\n",
       "      <th>1951-01-03</th>\n",
       "      <td>-1.29</td>\n",
       "      <td>3.95</td>\n",
       "      <td>-6.53</td>\n",
       "      <td>-12.572555</td>\n",
       "      <td>NaN</td>\n",
       "      <td>NaN</td>\n",
       "      <td>0.22</td>\n",
       "      <td>1951</td>\n",
       "      <td>1</td>\n",
       "      <td>3</td>\n",
       "    </tr>\n",
       "    <tr>\n",
       "      <th>1951-01-04</th>\n",
       "      <td>4.18</td>\n",
       "      <td>7.64</td>\n",
       "      <td>0.72</td>\n",
       "      <td>-13.119966</td>\n",
       "      <td>NaN</td>\n",
       "      <td>NaN</td>\n",
       "      <td>2.43</td>\n",
       "      <td>1951</td>\n",
       "      <td>1</td>\n",
       "      <td>4</td>\n",
       "    </tr>\n",
       "    <tr>\n",
       "      <th>1951-01-05</th>\n",
       "      <td>-0.57</td>\n",
       "      <td>6.57</td>\n",
       "      <td>-7.71</td>\n",
       "      <td>-13.291347</td>\n",
       "      <td>NaN</td>\n",
       "      <td>NaN</td>\n",
       "      <td>1.05</td>\n",
       "      <td>1951</td>\n",
       "      <td>1</td>\n",
       "      <td>5</td>\n",
       "    </tr>\n",
       "    <tr>\n",
       "      <th>...</th>\n",
       "      <td>...</td>\n",
       "      <td>...</td>\n",
       "      <td>...</td>\n",
       "      <td>...</td>\n",
       "      <td>...</td>\n",
       "      <td>...</td>\n",
       "      <td>...</td>\n",
       "      <td>...</td>\n",
       "      <td>...</td>\n",
       "      <td>...</td>\n",
       "    </tr>\n",
       "    <tr>\n",
       "      <th>2021-12-13</th>\n",
       "      <td>2.48</td>\n",
       "      <td>5.96</td>\n",
       "      <td>-1.00</td>\n",
       "      <td>-11.732225</td>\n",
       "      <td>NaN</td>\n",
       "      <td>NaN</td>\n",
       "      <td>0.05</td>\n",
       "      <td>2021</td>\n",
       "      <td>12</td>\n",
       "      <td>13</td>\n",
       "    </tr>\n",
       "    <tr>\n",
       "      <th>2021-12-14</th>\n",
       "      <td>3.21</td>\n",
       "      <td>7.98</td>\n",
       "      <td>-1.56</td>\n",
       "      <td>-11.704722</td>\n",
       "      <td>NaN</td>\n",
       "      <td>NaN</td>\n",
       "      <td>0.01</td>\n",
       "      <td>2021</td>\n",
       "      <td>12</td>\n",
       "      <td>14</td>\n",
       "    </tr>\n",
       "    <tr>\n",
       "      <th>2021-12-15</th>\n",
       "      <td>-1.06</td>\n",
       "      <td>4.50</td>\n",
       "      <td>-6.62</td>\n",
       "      <td>-12.184425</td>\n",
       "      <td>NaN</td>\n",
       "      <td>NaN</td>\n",
       "      <td>0.00</td>\n",
       "      <td>2021</td>\n",
       "      <td>12</td>\n",
       "      <td>15</td>\n",
       "    </tr>\n",
       "    <tr>\n",
       "      <th>2021-12-16</th>\n",
       "      <td>-0.93</td>\n",
       "      <td>4.01</td>\n",
       "      <td>-5.88</td>\n",
       "      <td>-12.572555</td>\n",
       "      <td>NaN</td>\n",
       "      <td>NaN</td>\n",
       "      <td>7.28</td>\n",
       "      <td>2021</td>\n",
       "      <td>12</td>\n",
       "      <td>16</td>\n",
       "    </tr>\n",
       "    <tr>\n",
       "      <th>2021-12-17</th>\n",
       "      <td>6.34</td>\n",
       "      <td>10.48</td>\n",
       "      <td>2.19</td>\n",
       "      <td>-13.119966</td>\n",
       "      <td>NaN</td>\n",
       "      <td>NaN</td>\n",
       "      <td>1.62</td>\n",
       "      <td>2021</td>\n",
       "      <td>12</td>\n",
       "      <td>17</td>\n",
       "    </tr>\n",
       "  </tbody>\n",
       "</table>\n",
       "<p>25919 rows × 10 columns</p>\n",
       "</div>"
      ],
      "text/plain": [
       "            tavg   tmax   tmin     season  trend  resid  prcp  year  month  \\\n",
       "date                                                                         \n",
       "1951-01-01 -7.01  -1.70 -12.32 -11.704722    NaN    NaN  0.33  1951      1   \n",
       "1951-01-02 -6.75  -0.66 -12.84 -12.184425    NaN    NaN  0.00  1951      1   \n",
       "1951-01-03 -1.29   3.95  -6.53 -12.572555    NaN    NaN  0.22  1951      1   \n",
       "1951-01-04  4.18   7.64   0.72 -13.119966    NaN    NaN  2.43  1951      1   \n",
       "1951-01-05 -0.57   6.57  -7.71 -13.291347    NaN    NaN  1.05  1951      1   \n",
       "...          ...    ...    ...        ...    ...    ...   ...   ...    ...   \n",
       "2021-12-13  2.48   5.96  -1.00 -11.732225    NaN    NaN  0.05  2021     12   \n",
       "2021-12-14  3.21   7.98  -1.56 -11.704722    NaN    NaN  0.01  2021     12   \n",
       "2021-12-15 -1.06   4.50  -6.62 -12.184425    NaN    NaN  0.00  2021     12   \n",
       "2021-12-16 -0.93   4.01  -5.88 -12.572555    NaN    NaN  7.28  2021     12   \n",
       "2021-12-17  6.34  10.48   2.19 -13.119966    NaN    NaN  1.62  2021     12   \n",
       "\n",
       "            day  \n",
       "date             \n",
       "1951-01-01    1  \n",
       "1951-01-02    2  \n",
       "1951-01-03    3  \n",
       "1951-01-04    4  \n",
       "1951-01-05    5  \n",
       "...         ...  \n",
       "2021-12-13   13  \n",
       "2021-12-14   14  \n",
       "2021-12-15   15  \n",
       "2021-12-16   16  \n",
       "2021-12-17   17  \n",
       "\n",
       "[25919 rows x 10 columns]"
      ]
     },
     "execution_count": 124,
     "metadata": {},
     "output_type": "execute_result"
    }
   ],
   "source": [
    "features = features.loc[:\"2021-12-17\"]\n",
    "features"
   ]
  },
  {
   "cell_type": "code",
   "execution_count": 125,
   "id": "7c64fa74",
   "metadata": {},
   "outputs": [],
   "source": [
    "# train/test split\n",
    "train_features, test_features, train_target, test_target = train_test_split(features, target, test_size=0.33, shuffle=False)"
   ]
  },
  {
   "cell_type": "code",
   "execution_count": 126,
   "id": "966f2e91",
   "metadata": {},
   "outputs": [
    {
     "data": {
      "text/plain": [
       "0        -4.30\n",
       "1        -1.46\n",
       "2        -6.30\n",
       "3        -3.87\n",
       "4        -1.29\n",
       "         ...  \n",
       "17360    17.03\n",
       "17361    19.42\n",
       "17362    21.50\n",
       "17363    19.66\n",
       "17364    19.06\n",
       "Name: measurement, Length: 17365, dtype: float64"
      ]
     },
     "execution_count": 126,
     "metadata": {},
     "output_type": "execute_result"
    }
   ],
   "source": [
    "train_target"
   ]
  },
  {
   "cell_type": "code",
   "execution_count": 127,
   "id": "2c68e8e8",
   "metadata": {},
   "outputs": [
    {
     "data": {
      "text/plain": [
       "17365    16.25\n",
       "17366    17.02\n",
       "17367    18.99\n",
       "17368    19.60\n",
       "17369    19.84\n",
       "         ...  \n",
       "25914    -2.83\n",
       "25915    -3.98\n",
       "25916    -1.90\n",
       "25917    -1.52\n",
       "25918     0.49\n",
       "Name: measurement, Length: 8554, dtype: float64"
      ]
     },
     "execution_count": 127,
     "metadata": {},
     "output_type": "execute_result"
    }
   ],
   "source": [
    "test_target"
   ]
  },
  {
   "cell_type": "code",
   "execution_count": 128,
   "id": "1d3f5cac",
   "metadata": {},
   "outputs": [
    {
     "data": {
      "text/plain": [
       "array([[-1.22963387, -1.22232353, -1.20482927, ..., -1.69560549,\n",
       "        -1.59319485, -1.67312463],\n",
       "       [-1.20498594, -1.12789451, -1.25503221, ..., -1.69560549,\n",
       "        -1.59319485, -1.55947604],\n",
       "       [-0.68737959, -0.70931972, -0.64583883, ..., -1.69560549,\n",
       "        -1.59319485, -1.44582744],\n",
       "       ...,\n",
       "       [ 1.62573305,  1.64686594,  1.56019423, ...,  1.72858644,\n",
       "         0.14739646, -0.08204427],\n",
       "       [ 1.75655663,  1.76308628,  1.70404497, ...,  1.72858644,\n",
       "         0.14739646,  0.03160432],\n",
       "       [ 1.7338047 ,  1.69044857,  1.73397364, ...,  1.72858644,\n",
       "         0.14739646,  0.14525292]])"
      ]
     },
     "execution_count": 128,
     "metadata": {},
     "output_type": "execute_result"
    }
   ],
   "source": [
    "scaler = StandardScaler()\n",
    "\n",
    "\n",
    "train_features_scaled = scaler.fit_transform(train_features)\n",
    "test_features_scaled = scaler.fit_transform(test_features)\n",
    "\n",
    "train_features_scaled"
   ]
  },
  {
   "cell_type": "code",
   "execution_count": 129,
   "id": "e6bb1ff2",
   "metadata": {
    "scrolled": false
   },
   "outputs": [
    {
     "data": {
      "text/html": [
       "<style>#sk-container-id-2 {color: black;background-color: white;}#sk-container-id-2 pre{padding: 0;}#sk-container-id-2 div.sk-toggleable {background-color: white;}#sk-container-id-2 label.sk-toggleable__label {cursor: pointer;display: block;width: 100%;margin-bottom: 0;padding: 0.3em;box-sizing: border-box;text-align: center;}#sk-container-id-2 label.sk-toggleable__label-arrow:before {content: \"▸\";float: left;margin-right: 0.25em;color: #696969;}#sk-container-id-2 label.sk-toggleable__label-arrow:hover:before {color: black;}#sk-container-id-2 div.sk-estimator:hover label.sk-toggleable__label-arrow:before {color: black;}#sk-container-id-2 div.sk-toggleable__content {max-height: 0;max-width: 0;overflow: hidden;text-align: left;background-color: #f0f8ff;}#sk-container-id-2 div.sk-toggleable__content pre {margin: 0.2em;color: black;border-radius: 0.25em;background-color: #f0f8ff;}#sk-container-id-2 input.sk-toggleable__control:checked~div.sk-toggleable__content {max-height: 200px;max-width: 100%;overflow: auto;}#sk-container-id-2 input.sk-toggleable__control:checked~label.sk-toggleable__label-arrow:before {content: \"▾\";}#sk-container-id-2 div.sk-estimator input.sk-toggleable__control:checked~label.sk-toggleable__label {background-color: #d4ebff;}#sk-container-id-2 div.sk-label input.sk-toggleable__control:checked~label.sk-toggleable__label {background-color: #d4ebff;}#sk-container-id-2 input.sk-hidden--visually {border: 0;clip: rect(1px 1px 1px 1px);clip: rect(1px, 1px, 1px, 1px);height: 1px;margin: -1px;overflow: hidden;padding: 0;position: absolute;width: 1px;}#sk-container-id-2 div.sk-estimator {font-family: monospace;background-color: #f0f8ff;border: 1px dotted black;border-radius: 0.25em;box-sizing: border-box;margin-bottom: 0.5em;}#sk-container-id-2 div.sk-estimator:hover {background-color: #d4ebff;}#sk-container-id-2 div.sk-parallel-item::after {content: \"\";width: 100%;border-bottom: 1px solid gray;flex-grow: 1;}#sk-container-id-2 div.sk-label:hover label.sk-toggleable__label {background-color: #d4ebff;}#sk-container-id-2 div.sk-serial::before {content: \"\";position: absolute;border-left: 1px solid gray;box-sizing: border-box;top: 0;bottom: 0;left: 50%;z-index: 0;}#sk-container-id-2 div.sk-serial {display: flex;flex-direction: column;align-items: center;background-color: white;padding-right: 0.2em;padding-left: 0.2em;position: relative;}#sk-container-id-2 div.sk-item {position: relative;z-index: 1;}#sk-container-id-2 div.sk-parallel {display: flex;align-items: stretch;justify-content: center;background-color: white;position: relative;}#sk-container-id-2 div.sk-item::before, #sk-container-id-2 div.sk-parallel-item::before {content: \"\";position: absolute;border-left: 1px solid gray;box-sizing: border-box;top: 0;bottom: 0;left: 50%;z-index: -1;}#sk-container-id-2 div.sk-parallel-item {display: flex;flex-direction: column;z-index: 1;position: relative;background-color: white;}#sk-container-id-2 div.sk-parallel-item:first-child::after {align-self: flex-end;width: 50%;}#sk-container-id-2 div.sk-parallel-item:last-child::after {align-self: flex-start;width: 50%;}#sk-container-id-2 div.sk-parallel-item:only-child::after {width: 0;}#sk-container-id-2 div.sk-dashed-wrapped {border: 1px dashed gray;margin: 0 0.4em 0.5em 0.4em;box-sizing: border-box;padding-bottom: 0.4em;background-color: white;}#sk-container-id-2 div.sk-label label {font-family: monospace;font-weight: bold;display: inline-block;line-height: 1.2em;}#sk-container-id-2 div.sk-label-container {text-align: center;}#sk-container-id-2 div.sk-container {/* jupyter's `normalize.less` sets `[hidden] { display: none; }` but bootstrap.min.css set `[hidden] { display: none !important; }` so we also need the `!important` here to be able to override the default hidden behavior on the sphinx rendered scikit-learn.org. See: https://github.com/scikit-learn/scikit-learn/issues/21755 */display: inline-block !important;position: relative;}#sk-container-id-2 div.sk-text-repr-fallback {display: none;}</style><div id=\"sk-container-id-2\" class=\"sk-top-container\"><div class=\"sk-text-repr-fallback\"><pre>XGBRegressor(base_score=None, booster=None, callbacks=None,\n",
       "             colsample_bylevel=None, colsample_bynode=None,\n",
       "             colsample_bytree=None, early_stopping_rounds=None,\n",
       "             enable_categorical=False, eval_metric=None, feature_types=None,\n",
       "             gamma=None, gpu_id=None, grow_policy=None, importance_type=None,\n",
       "             interaction_constraints=None, learning_rate=None, max_bin=None,\n",
       "             max_cat_threshold=None, max_cat_to_onehot=None,\n",
       "             max_delta_step=None, max_depth=None, max_leaves=None,\n",
       "             min_child_weight=None, missing=nan, monotone_constraints=None,\n",
       "             n_estimators=100, n_jobs=None, num_parallel_tree=None,\n",
       "             predictor=None, random_state=None, ...)</pre><b>In a Jupyter environment, please rerun this cell to show the HTML representation or trust the notebook. <br />On GitHub, the HTML representation is unable to render, please try loading this page with nbviewer.org.</b></div><div class=\"sk-container\" hidden><div class=\"sk-item\"><div class=\"sk-estimator sk-toggleable\"><input class=\"sk-toggleable__control sk-hidden--visually\" id=\"sk-estimator-id-2\" type=\"checkbox\" checked><label for=\"sk-estimator-id-2\" class=\"sk-toggleable__label sk-toggleable__label-arrow\">XGBRegressor</label><div class=\"sk-toggleable__content\"><pre>XGBRegressor(base_score=None, booster=None, callbacks=None,\n",
       "             colsample_bylevel=None, colsample_bynode=None,\n",
       "             colsample_bytree=None, early_stopping_rounds=None,\n",
       "             enable_categorical=False, eval_metric=None, feature_types=None,\n",
       "             gamma=None, gpu_id=None, grow_policy=None, importance_type=None,\n",
       "             interaction_constraints=None, learning_rate=None, max_bin=None,\n",
       "             max_cat_threshold=None, max_cat_to_onehot=None,\n",
       "             max_delta_step=None, max_depth=None, max_leaves=None,\n",
       "             min_child_weight=None, missing=nan, monotone_constraints=None,\n",
       "             n_estimators=100, n_jobs=None, num_parallel_tree=None,\n",
       "             predictor=None, random_state=None, ...)</pre></div></div></div></div></div>"
      ],
      "text/plain": [
       "XGBRegressor(base_score=None, booster=None, callbacks=None,\n",
       "             colsample_bylevel=None, colsample_bynode=None,\n",
       "             colsample_bytree=None, early_stopping_rounds=None,\n",
       "             enable_categorical=False, eval_metric=None, feature_types=None,\n",
       "             gamma=None, gpu_id=None, grow_policy=None, importance_type=None,\n",
       "             interaction_constraints=None, learning_rate=None, max_bin=None,\n",
       "             max_cat_threshold=None, max_cat_to_onehot=None,\n",
       "             max_delta_step=None, max_depth=None, max_leaves=None,\n",
       "             min_child_weight=None, missing=nan, monotone_constraints=None,\n",
       "             n_estimators=100, n_jobs=None, num_parallel_tree=None,\n",
       "             predictor=None, random_state=None, ...)"
      ]
     },
     "execution_count": 129,
     "metadata": {},
     "output_type": "execute_result"
    }
   ],
   "source": [
    "model = xgb.XGBRegressor()\n",
    "model.fit(train_features_scaled, train_target)"
   ]
  },
  {
   "cell_type": "code",
   "execution_count": 130,
   "id": "2fc5c83e",
   "metadata": {},
   "outputs": [],
   "source": [
    "predictions = model.predict(test_features_scaled)"
   ]
  },
  {
   "cell_type": "code",
   "execution_count": 131,
   "id": "165800ff",
   "metadata": {
    "scrolled": true
   },
   "outputs": [
    {
     "data": {
      "text/plain": [
       "<AxesSubplot:>"
      ]
     },
     "execution_count": 131,
     "metadata": {},
     "output_type": "execute_result"
    },
    {
     "data": {
      "image/png": "[encoded data removed]",
      "text/plain": [
       "<Figure size 432x288 with 1 Axes>"
      ]
     },
     "metadata": {
      "needs_background": "light"
     },
     "output_type": "display_data"
    }
   ],
   "source": [
    "predictions = pd.DataFrame(predictions, columns = [\"predicted avg temp\"])\n",
    "predictions.plot()"
   ]
  },
  {
   "cell_type": "code",
   "execution_count": 132,
   "id": "5448d9c4",
   "metadata": {},
   "outputs": [
    {
     "data": {
      "text/plain": [
       "<AxesSubplot:>"
      ]
     },
     "execution_count": 132,
     "metadata": {},
     "output_type": "execute_result"
    },
    {
     "data": {
      "image/png": "[encoded data removed]",
      "text/plain": [
       "<Figure size 432x288 with 1 Axes>"
      ]
     },
     "metadata": {
      "needs_background": "light"
     },
     "output_type": "display_data"
    }
   ],
   "source": [
    "test_target.plot()"
   ]
  },
  {
   "cell_type": "code",
   "execution_count": 133,
   "id": "ff7bfa00",
   "metadata": {},
   "outputs": [
    {
     "data": {
      "text/html": [
       "<div>\n",
       "<style scoped>\n",
       "    .dataframe tbody tr th:only-of-type {\n",
       "        vertical-align: middle;\n",
       "    }\n",
       "\n",
       "    .dataframe tbody tr th {\n",
       "        vertical-align: top;\n",
       "    }\n",
       "\n",
       "    .dataframe thead th {\n",
       "        text-align: right;\n",
       "    }\n",
       "</style>\n",
       "<table border=\"1\" class=\"dataframe\">\n",
       "  <thead>\n",
       "    <tr style=\"text-align: right;\">\n",
       "      <th></th>\n",
       "      <th>predicted avg temp</th>\n",
       "      <th>measurement</th>\n",
       "    </tr>\n",
       "  </thead>\n",
       "  <tbody>\n",
       "    <tr>\n",
       "      <th>0</th>\n",
       "      <td>20.051048</td>\n",
       "      <td>16.25</td>\n",
       "    </tr>\n",
       "    <tr>\n",
       "      <th>1</th>\n",
       "      <td>18.433697</td>\n",
       "      <td>17.02</td>\n",
       "    </tr>\n",
       "    <tr>\n",
       "      <th>2</th>\n",
       "      <td>17.584969</td>\n",
       "      <td>18.99</td>\n",
       "    </tr>\n",
       "    <tr>\n",
       "      <th>3</th>\n",
       "      <td>19.254122</td>\n",
       "      <td>19.60</td>\n",
       "    </tr>\n",
       "    <tr>\n",
       "      <th>4</th>\n",
       "      <td>18.725616</td>\n",
       "      <td>19.84</td>\n",
       "    </tr>\n",
       "    <tr>\n",
       "      <th>...</th>\n",
       "      <td>...</td>\n",
       "      <td>...</td>\n",
       "    </tr>\n",
       "    <tr>\n",
       "      <th>8549</th>\n",
       "      <td>-6.702363</td>\n",
       "      <td>-2.83</td>\n",
       "    </tr>\n",
       "    <tr>\n",
       "      <th>8550</th>\n",
       "      <td>-4.039741</td>\n",
       "      <td>-3.98</td>\n",
       "    </tr>\n",
       "    <tr>\n",
       "      <th>8551</th>\n",
       "      <td>-7.220357</td>\n",
       "      <td>-1.90</td>\n",
       "    </tr>\n",
       "    <tr>\n",
       "      <th>8552</th>\n",
       "      <td>-6.109925</td>\n",
       "      <td>-1.52</td>\n",
       "    </tr>\n",
       "    <tr>\n",
       "      <th>8553</th>\n",
       "      <td>-7.134772</td>\n",
       "      <td>0.49</td>\n",
       "    </tr>\n",
       "  </tbody>\n",
       "</table>\n",
       "<p>8554 rows × 2 columns</p>\n",
       "</div>"
      ],
      "text/plain": [
       "      predicted avg temp  measurement\n",
       "0              20.051048        16.25\n",
       "1              18.433697        17.02\n",
       "2              17.584969        18.99\n",
       "3              19.254122        19.60\n",
       "4              18.725616        19.84\n",
       "...                  ...          ...\n",
       "8549           -6.702363        -2.83\n",
       "8550           -4.039741        -3.98\n",
       "8551           -7.220357        -1.90\n",
       "8552           -6.109925        -1.52\n",
       "8553           -7.134772         0.49\n",
       "\n",
       "[8554 rows x 2 columns]"
      ]
     },
     "execution_count": 133,
     "metadata": {},
     "output_type": "execute_result"
    }
   ],
   "source": [
    "\n",
    "\n",
    "y = test_target.reset_index(drop=True)\n",
    "x = predictions[\"predicted avg temp\"].reset_index(drop=True)\n",
    "\n",
    "combined = pd.concat([x, y],axis=\"columns\")\n",
    "combined"
   ]
  },
  {
   "cell_type": "code",
   "execution_count": 138,
   "id": "f991f6d4",
   "metadata": {},
   "outputs": [
    {
     "data": {
      "text/plain": [
       "3.534950996271562"
      ]
     },
     "execution_count": 138,
     "metadata": {},
     "output_type": "execute_result"
    },
    {
     "data": {
      "image/png": "[encoded data removed]",
      "text/plain": [
       "<Figure size 432x288 with 1 Axes>"
      ]
     },
     "metadata": {
      "needs_background": "light"
     },
     "output_type": "display_data"
    }
   ],
   "source": [
    "sns.lineplot(data=combined[:365])\n",
    "mae(predictions, test_target)"
   ]
  },
  {
   "cell_type": "code",
   "execution_count": null,
   "id": "a48cc444",
   "metadata": {},
   "outputs": [],
   "source": [
    "# data = df\n",
    "# #set frquency of index to daily\n",
    "# data.index.freq = 'D'\n",
    "# myorder = (1,1,1)\n",
    "# myseasonal_order = (1,1,1,365)\n",
    "# # add frequency parameter to SARIMAX\n",
    "# model = SARIMAX(data, order=myorder, seasonal_order=myseasonal_order, freq=\"D\")\n",
    "# results = model.fit()\n",
    "# print(results.summary())\n",
    "\n",
    "\n",
    "\n",
    "# from prophet import Prophet\n",
    "# df[\"ds\"] = df.index\n",
    "# df[\"y\"] = df[\"measurement\"]\n",
    "# df = df[[\"ds\", \"y\"]]\n",
    "# m = Prophet()\n",
    "# m.fit(df)\n",
    "# future = m.make_future_dataframe(periods=365)\n",
    "# forecast = m.predict(future)\n",
    "# fig1 = m.plot(forecast)\n",
    "# fig2 = m.plot_components(forecast)\n",
    "# plt.show()\n",
    "# m.\n",
    "# df = pd.read_csv(\"new_england_tavg.csv\")\n",
    "# arima = StatsForecast(\n",
    "#     models = [AutoARIMA(season_length = 365)],freq = 'D')\n",
    "\n",
    "# arima.fit(df)\n",
    "# sf.predict(h=12, level=[95])\n"
   ]
  }
 ],
 "metadata": {
  "kernelspec": {
   "display_name": "Python 3 (ipykernel)",
   "language": "python",
   "name": "python3"
  },
  "language_info": {
   "codemirror_mode": {
    "name": "ipython",
    "version": 3
   },
   "file_extension": ".py",
   "mimetype": "text/x-python",
   "name": "python",
   "nbconvert_exporter": "python",
   "pygments_lexer": "ipython3",
   "version": "3.10.6"
  }
 },
 "nbformat": 4,
 "nbformat_minor": 5
}
